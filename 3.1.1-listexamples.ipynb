{
 "cells": [
  {
   "cell_type": "markdown",
   "id": "8fd84495",
   "metadata": {},
   "source": [
    "## Example-1 Marge a to-do list"
   ]
  },
  {
   "cell_type": "markdown",
   "id": "a3bacca2",
   "metadata": {},
   "source": [
    "##### - Create a to-do list to keep track of tasks"
   ]
  },
  {
   "cell_type": "code",
   "execution_count": 5,
   "id": "2335a321",
   "metadata": {},
   "outputs": [
    {
     "name": "stdout",
     "output_type": "stream",
     "text": [
      "Don't forget to pay the bills\n",
      "To Do LIst remaing Task to complete\n",
      "- Buy Groceries\n",
      "- pay Bills\n",
      "- Meet a friend\n",
      "- Attend a meeting\n",
      "- Gym in evening\n"
     ]
    }
   ],
   "source": [
    "to_do_list=[\"Buy Groceries\",\"Clean the House\", \"pay Bills\"]\n",
    "\n",
    "# Add to task\n",
    "to_do_list.append(\"Meet a friend\")\n",
    "to_do_list.append(\"Attend a meeting\")\n",
    "to_do_list.append(\"Gym in evening\")\n",
    "\n",
    "# Remove the compketed task\n",
    "to_do_list.remove(\"Clean the House\")\n",
    "\n",
    "# Check if the task is in the list\n",
    "if \"pay Bills\" in to_do_list:\n",
    "  print(\"Don't forget to pay the bills\")\n",
    "\n",
    "print(\"To Do LIst remaing Task to complete\")\n",
    "for task in to_do_list:\n",
    "  print(f\"- {task}\")"
   ]
  },
  {
   "cell_type": "markdown",
   "id": "b248e5af",
   "metadata": {},
   "source": [
    "### Create a list to store and calculate average grades for students"
   ]
  },
  {
   "cell_type": "code",
   "execution_count": 9,
   "id": "2dfa655f",
   "metadata": {},
   "outputs": [
    {
     "name": "stdout",
     "output_type": "stream",
     "text": [
      "Average Grade:  87.33\n",
      "Highest Grade: 95\n",
      "Lowest Grade: 74\n"
     ]
    }
   ],
   "source": [
    "# Organizing student grades\n",
    "grades= [85,92,74,90,88]\n",
    "\n",
    "# adding a new gread\n",
    "grades.append(95)\n",
    "\n",
    "# Calculate the average greades\n",
    "avgerage_grade= sum(grades)/len(grades)\n",
    "print(f\"Average Grade: {avgerage_grade: .2f}\")\n",
    "\n",
    "# Finding the highest grade\n",
    "highest_grade=max(grades)\n",
    "lowest_grade=min(grades)\n",
    "print(f\"Highest Grade: {highest_grade}\")\n",
    "print(f\"Lowest Grade: {lowest_grade}\")"
   ]
  },
  {
   "cell_type": "markdown",
   "id": "cbef7603",
   "metadata": {},
   "source": [
    "### Managing An Inventory"
   ]
  },
  {
   "cell_type": "markdown",
   "id": "be959306",
   "metadata": {},
   "source": [
    "#### Use a list to manage inventory items in a store"
   ]
  },
  {
   "cell_type": "code",
   "execution_count": 10,
   "id": "93f2641e",
   "metadata": {},
   "outputs": [
    {
     "name": "stdout",
     "output_type": "stream",
     "text": [
      "oranges are in stock\n",
      "Inventory List:\n",
      "- apples\n",
      "- oranges\n",
      "- grapes\n",
      "- strawberries\n"
     ]
    }
   ],
   "source": [
    "# Merging an inventory\n",
    "inventory = [\"apples\",\"bananas\",\"oranges\",\"grapes\"]\n",
    "\n",
    "# Adding a new items\n",
    "inventory.append(\"strawberries\")\n",
    "\n",
    "# Removing an items that is out of stock\n",
    "inventory.remove(\"bananas\")\n",
    "\n",
    "#Check if an items is in stock\n",
    "item = \"oranges\"\n",
    "if item in inventory:\n",
    "  print(f\"{item} are in stock\")\n",
    "else:\n",
    "  print(f\"{item} are out of stock\")\n",
    "\n",
    "# Print the inventory\n",
    "print(\"Inventory List:\")\n",
    "for item in inventory:\n",
    "  print(f\"- {item}\")\n"
   ]
  },
  {
   "cell_type": "markdown",
   "id": "edb5a35b",
   "metadata": {},
   "source": [
    "## Collecting users Feedback"
   ]
  },
  {
   "cell_type": "markdown",
   "id": "914befa3",
   "metadata": {},
   "source": [
    "#### Use a list to collect and analyze user feedback"
   ]
  },
  {
   "cell_type": "code",
   "execution_count": 11,
   "id": "97e5607e",
   "metadata": {},
   "outputs": [
    {
     "name": "stdout",
     "output_type": "stream",
     "text": [
      "Positive Feedback Count: 2\n",
      "User Feedback: \n",
      "- Great Service\n",
      "- Very satisfied\n",
      "- Could be better\n",
      "- Excellent experience\n",
      "- Not happy with the seervice\n"
     ]
    }
   ],
   "source": [
    "#Collecting uses feedback\n",
    "feedback=[\"Great Service\",\"Very satisfied\",\"Could be better\",\"Excellent experience\"]\n",
    "\n",
    "# Adding a new feedback\n",
    "feedback.append(\"Not happy with the seervice\")\n",
    "\n",
    "# counting spacific feedback\n",
    "positive_feedback_count = sum(1 for comment in feedback if \"great\" in comment.lower() or \"excellent\" in comment.lower())\n",
    "print(f\"Positive Feedback Count: {positive_feedback_count}\")\n",
    "\n",
    "# Print all feedback\n",
    "print(\"User Feedback: \")\n",
    "for comment in feedback:\n",
    "  print(f\"- {comment}\")\n"
   ]
  },
  {
   "cell_type": "code",
   "execution_count": null,
   "id": "eb19a89b",
   "metadata": {},
   "outputs": [],
   "source": []
  }
 ],
 "metadata": {
  "kernelspec": {
   "display_name": "Python 3",
   "language": "python",
   "name": "python3"
  },
  "language_info": {
   "codemirror_mode": {
    "name": "ipython",
    "version": 3
   },
   "file_extension": ".py",
   "mimetype": "text/x-python",
   "name": "python",
   "nbconvert_exporter": "python",
   "pygments_lexer": "ipython3",
   "version": "3.12.0"
  }
 },
 "nbformat": 4,
 "nbformat_minor": 5
}
